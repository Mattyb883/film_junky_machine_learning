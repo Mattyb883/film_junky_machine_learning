{
 "cells": [
  {
   "cell_type": "markdown",
   "id": "47efe000-1c2c-468b-b71a-110aea79ba0f",
   "metadata": {},
   "source": [
    "# IMDB Sentiment Classifier – Film Junky Union\n",
    "\n",
    "Welcome to the Film Junky Union's movie review sentiment classifier project.\n",
    "\n",
    "In this project, we develop a machine learning system to automatically **detect negative movie reviews** based on IMDB data. Using a dataset of over **47,000 labeled reviews**, we apply natural language processing and classification techniques to build and evaluate models that predict whether a given review is **positive** or **negative**.\n",
    "\n",
    "Our goal is to train models that achieve an **F1 score of at least 0.85**, ensuring reliable sentiment detection across both user-submitted and real-world examples.\n",
    "\n",
    "By the end of this project, we:\n",
    "- Explore and prepare the dataset through EDA and preprocessing\n",
    "- Train and evaluate multiple machine learning models\n",
    "- Compare model predictions on custom-written reviews\n",
    "- Visualize performance using metrics and confusion matrices\n",
    "- Present our findings and recommend the best model for deployment\n"
   ]
  },
  {
   "cell_type": "code",
   "execution_count": 41,
   "id": "7168d689-7b7e-4e56-89a8-5cfcaf40fecd",
   "metadata": {},
   "outputs": [],
   "source": [
    "# Data Handling & Visualization\n",
    "import pandas as pd\n",
    "import matplotlib.pyplot as plt\n",
    "\n",
    "# Text Preprocessing\n",
    "import string\n",
    "import nltk\n",
    "from nltk.corpus import stopwords\n",
    "\n",
    "# Feature Extraction\n",
    "from sklearn.feature_extraction.text import TfidfVectorizer\n",
    "\n",
    "# Models\n",
    "from sklearn.linear_model import LogisticRegression\n",
    "from sklearn.svm import LinearSVC\n",
    "from xgboost import XGBClassifier\n",
    "\n",
    "# Model Evaluation\n",
    "from sklearn.metrics import classification_report, confusion_matrix, ConfusionMatrixDisplay, f1_score\n",
    "\n",
    "# Model Selection & Tuning\n",
    "from sklearn.model_selection import GridSearchCV\n"
   ]
  },
  {
   "cell_type": "code",
   "execution_count": 42,
   "id": "cce19712-76fd-4afe-bb3e-5436c00db5de",
   "metadata": {},
   "outputs": [],
   "source": [
    "# Load the TSV file\n",
    "file_path = '/datasets/imdb_reviews.tsv'\n",
    "df = pd.read_csv(file_path, sep='\\t')\n"
   ]
  },
  {
   "cell_type": "code",
   "execution_count": 43,
   "id": "a0ca671e-a025-4d1b-ab4c-e9102e778426",
   "metadata": {},
   "outputs": [
    {
     "data": {
      "text/html": [
       "<div>\n",
       "<style scoped>\n",
       "    .dataframe tbody tr th:only-of-type {\n",
       "        vertical-align: middle;\n",
       "    }\n",
       "\n",
       "    .dataframe tbody tr th {\n",
       "        vertical-align: top;\n",
       "    }\n",
       "\n",
       "    .dataframe thead th {\n",
       "        text-align: right;\n",
       "    }\n",
       "</style>\n",
       "<table border=\"1\" class=\"dataframe\">\n",
       "  <thead>\n",
       "    <tr style=\"text-align: right;\">\n",
       "      <th></th>\n",
       "      <th>tconst</th>\n",
       "      <th>title_type</th>\n",
       "      <th>primary_title</th>\n",
       "      <th>original_title</th>\n",
       "      <th>start_year</th>\n",
       "      <th>end_year</th>\n",
       "      <th>runtime_minutes</th>\n",
       "      <th>is_adult</th>\n",
       "      <th>genres</th>\n",
       "      <th>average_rating</th>\n",
       "      <th>votes</th>\n",
       "      <th>review</th>\n",
       "      <th>rating</th>\n",
       "      <th>sp</th>\n",
       "      <th>pos</th>\n",
       "      <th>ds_part</th>\n",
       "      <th>idx</th>\n",
       "    </tr>\n",
       "  </thead>\n",
       "  <tbody>\n",
       "    <tr>\n",
       "      <th>0</th>\n",
       "      <td>tt0068152</td>\n",
       "      <td>movie</td>\n",
       "      <td>$</td>\n",
       "      <td>$</td>\n",
       "      <td>1971</td>\n",
       "      <td>\\N</td>\n",
       "      <td>121</td>\n",
       "      <td>0</td>\n",
       "      <td>Comedy,Crime,Drama</td>\n",
       "      <td>6.3</td>\n",
       "      <td>2218.0</td>\n",
       "      <td>The pakage implies that Warren Beatty and Gold...</td>\n",
       "      <td>1</td>\n",
       "      <td>neg</td>\n",
       "      <td>0</td>\n",
       "      <td>train</td>\n",
       "      <td>8335</td>\n",
       "    </tr>\n",
       "    <tr>\n",
       "      <th>1</th>\n",
       "      <td>tt0068152</td>\n",
       "      <td>movie</td>\n",
       "      <td>$</td>\n",
       "      <td>$</td>\n",
       "      <td>1971</td>\n",
       "      <td>\\N</td>\n",
       "      <td>121</td>\n",
       "      <td>0</td>\n",
       "      <td>Comedy,Crime,Drama</td>\n",
       "      <td>6.3</td>\n",
       "      <td>2218.0</td>\n",
       "      <td>How the hell did they get this made?! Presenti...</td>\n",
       "      <td>1</td>\n",
       "      <td>neg</td>\n",
       "      <td>0</td>\n",
       "      <td>train</td>\n",
       "      <td>8336</td>\n",
       "    </tr>\n",
       "    <tr>\n",
       "      <th>2</th>\n",
       "      <td>tt0313150</td>\n",
       "      <td>short</td>\n",
       "      <td>'15'</td>\n",
       "      <td>'15'</td>\n",
       "      <td>2002</td>\n",
       "      <td>\\N</td>\n",
       "      <td>25</td>\n",
       "      <td>0</td>\n",
       "      <td>Comedy,Drama,Short</td>\n",
       "      <td>6.3</td>\n",
       "      <td>184.0</td>\n",
       "      <td>There is no real story the film seems more lik...</td>\n",
       "      <td>3</td>\n",
       "      <td>neg</td>\n",
       "      <td>0</td>\n",
       "      <td>test</td>\n",
       "      <td>2489</td>\n",
       "    </tr>\n",
       "    <tr>\n",
       "      <th>3</th>\n",
       "      <td>tt0313150</td>\n",
       "      <td>short</td>\n",
       "      <td>'15'</td>\n",
       "      <td>'15'</td>\n",
       "      <td>2002</td>\n",
       "      <td>\\N</td>\n",
       "      <td>25</td>\n",
       "      <td>0</td>\n",
       "      <td>Comedy,Drama,Short</td>\n",
       "      <td>6.3</td>\n",
       "      <td>184.0</td>\n",
       "      <td>Um .... a serious film about troubled teens in...</td>\n",
       "      <td>7</td>\n",
       "      <td>pos</td>\n",
       "      <td>1</td>\n",
       "      <td>test</td>\n",
       "      <td>9280</td>\n",
       "    </tr>\n",
       "    <tr>\n",
       "      <th>4</th>\n",
       "      <td>tt0313150</td>\n",
       "      <td>short</td>\n",
       "      <td>'15'</td>\n",
       "      <td>'15'</td>\n",
       "      <td>2002</td>\n",
       "      <td>\\N</td>\n",
       "      <td>25</td>\n",
       "      <td>0</td>\n",
       "      <td>Comedy,Drama,Short</td>\n",
       "      <td>6.3</td>\n",
       "      <td>184.0</td>\n",
       "      <td>I'm totally agree with GarryJohal from Singapo...</td>\n",
       "      <td>9</td>\n",
       "      <td>pos</td>\n",
       "      <td>1</td>\n",
       "      <td>test</td>\n",
       "      <td>9281</td>\n",
       "    </tr>\n",
       "  </tbody>\n",
       "</table>\n",
       "</div>"
      ],
      "text/plain": [
       "      tconst title_type primary_title original_title  start_year end_year  \\\n",
       "0  tt0068152      movie             $              $        1971       \\N   \n",
       "1  tt0068152      movie             $              $        1971       \\N   \n",
       "2  tt0313150      short          '15'           '15'        2002       \\N   \n",
       "3  tt0313150      short          '15'           '15'        2002       \\N   \n",
       "4  tt0313150      short          '15'           '15'        2002       \\N   \n",
       "\n",
       "  runtime_minutes  is_adult              genres  average_rating   votes  \\\n",
       "0             121         0  Comedy,Crime,Drama             6.3  2218.0   \n",
       "1             121         0  Comedy,Crime,Drama             6.3  2218.0   \n",
       "2              25         0  Comedy,Drama,Short             6.3   184.0   \n",
       "3              25         0  Comedy,Drama,Short             6.3   184.0   \n",
       "4              25         0  Comedy,Drama,Short             6.3   184.0   \n",
       "\n",
       "                                              review  rating   sp  pos  \\\n",
       "0  The pakage implies that Warren Beatty and Gold...       1  neg    0   \n",
       "1  How the hell did they get this made?! Presenti...       1  neg    0   \n",
       "2  There is no real story the film seems more lik...       3  neg    0   \n",
       "3  Um .... a serious film about troubled teens in...       7  pos    1   \n",
       "4  I'm totally agree with GarryJohal from Singapo...       9  pos    1   \n",
       "\n",
       "  ds_part   idx  \n",
       "0   train  8335  \n",
       "1   train  8336  \n",
       "2    test  2489  \n",
       "3    test  9280  \n",
       "4    test  9281  "
      ]
     },
     "execution_count": 43,
     "metadata": {},
     "output_type": "execute_result"
    }
   ],
   "source": [
    "# Preview the first few rows\n",
    "df.head()\n"
   ]
  },
  {
   "cell_type": "code",
   "execution_count": 44,
   "id": "cdcbf759-a897-49bd-8785-c7b745350434",
   "metadata": {},
   "outputs": [
    {
     "name": "stdout",
     "output_type": "stream",
     "text": [
      "<class 'pandas.core.frame.DataFrame'>\n",
      "RangeIndex: 47331 entries, 0 to 47330\n",
      "Data columns (total 17 columns):\n",
      " #   Column           Non-Null Count  Dtype  \n",
      "---  ------           --------------  -----  \n",
      " 0   tconst           47331 non-null  object \n",
      " 1   title_type       47331 non-null  object \n",
      " 2   primary_title    47331 non-null  object \n",
      " 3   original_title   47331 non-null  object \n",
      " 4   start_year       47331 non-null  int64  \n",
      " 5   end_year         47331 non-null  object \n",
      " 6   runtime_minutes  47331 non-null  object \n",
      " 7   is_adult         47331 non-null  int64  \n",
      " 8   genres           47331 non-null  object \n",
      " 9   average_rating   47329 non-null  float64\n",
      " 10  votes            47329 non-null  float64\n",
      " 11  review           47331 non-null  object \n",
      " 12  rating           47331 non-null  int64  \n",
      " 13  sp               47331 non-null  object \n",
      " 14  pos              47331 non-null  int64  \n",
      " 15  ds_part          47331 non-null  object \n",
      " 16  idx              47331 non-null  int64  \n",
      "dtypes: float64(2), int64(5), object(10)\n",
      "memory usage: 6.1+ MB\n"
     ]
    }
   ],
   "source": [
    "# Show column data types and non-null counts\n",
    "df.info()\n"
   ]
  },
  {
   "cell_type": "code",
   "execution_count": 45,
   "id": "8bce17ec-ed8a-4463-9525-c3bc59c944e6",
   "metadata": {},
   "outputs": [
    {
     "name": "stdout",
     "output_type": "stream",
     "text": [
      "\n",
      "Missing values per column:\n",
      "tconst             0\n",
      "title_type         0\n",
      "primary_title      0\n",
      "original_title     0\n",
      "start_year         0\n",
      "end_year           0\n",
      "runtime_minutes    0\n",
      "is_adult           0\n",
      "genres             0\n",
      "average_rating     2\n",
      "votes              2\n",
      "review             0\n",
      "rating             0\n",
      "sp                 0\n",
      "pos                0\n",
      "ds_part            0\n",
      "idx                0\n",
      "dtype: int64\n"
     ]
    }
   ],
   "source": [
    "# Count missing values per column\n",
    "print(\"\\nMissing values per column:\")\n",
    "print(df.isnull().sum())\n"
   ]
  },
  {
   "cell_type": "code",
   "execution_count": 46,
   "id": "21251a72-9602-4cd9-a3ae-47ac8519a210",
   "metadata": {},
   "outputs": [
    {
     "name": "stdout",
     "output_type": "stream",
     "text": [
      "Dataset part breakdown (ds_part):\n",
      "train    23796\n",
      "test     23535\n",
      "Name: ds_part, dtype: int64 \n",
      "\n"
     ]
    }
   ],
   "source": [
    "# Unique values and their counts for dataset part\n",
    "print(\"Dataset part breakdown (ds_part):\")\n",
    "print(df['ds_part'].value_counts(), \"\\n\")\n"
   ]
  },
  {
   "cell_type": "code",
   "execution_count": 47,
   "id": "c79adcb6-c3ab-442a-aa1b-fe996159e460",
   "metadata": {},
   "outputs": [
    {
     "name": "stdout",
     "output_type": "stream",
     "text": [
      "Class distribution (pos):\n",
      "0    23715\n",
      "1    23616\n",
      "Name: pos, dtype: int64\n"
     ]
    }
   ],
   "source": [
    "# Unique values and their counts for sentiment class\n",
    "print(\"Class distribution (pos):\")\n",
    "print(df['pos'].value_counts())\n"
   ]
  },
  {
   "cell_type": "markdown",
   "id": "a84313a0-afe8-4e94-8fb8-41a7238fd7d2",
   "metadata": {},
   "source": [
    "### Initial Data Exploration\n",
    "\n",
    "### Data Load\n",
    "- Total Records: 47,331\n",
    "- Total Columns: 17\n",
    "- Key Columns:\n",
    "  - `review` — the full movie review (text)\n",
    "  - `pos` — target label (0 = negative, 1 = positive)\n",
    "  - `ds_part` — dataset split (train/test)\n",
    "\n",
    "### Data Quality\n",
    "- No missing values in: `review`, `pos`, `ds_part`\n",
    "- Only 2 missing values in: `average_rating`, `votes` (not used currently)\n",
    "\n",
    "### Dataset Split (`ds_part`)\n",
    "| Split | Count  |\n",
    "|-------|--------|\n",
    "| Train | 23,796 |\n",
    "| Test  | 23,535 |\n",
    "\n",
    "Balanced dataset split\n",
    "\n",
    "### Class Distribution (`pos`)\n",
    "| Label      | Count   |\n",
    "|------------|---------|\n",
    "| Negative (0) | 23,715 |\n",
    "| Positive (1) | 23,616 |\n",
    "\n",
    "Nearly perfectly balanced class distribution\n"
   ]
  },
  {
   "cell_type": "code",
   "execution_count": 48,
   "id": "5d0fd26e-2952-4f32-a99b-85935ad0a6e5",
   "metadata": {},
   "outputs": [],
   "source": [
    "# Add review length (word count) column\n",
    "df['review_length'] = df['review'].apply(lambda x: len(x.split()))\n"
   ]
  },
  {
   "cell_type": "code",
   "execution_count": 49,
   "id": "af37a90e-817a-4db1-87a6-4acbec227e87",
   "metadata": {},
   "outputs": [
    {
     "data": {
      "text/html": [
       "<div>\n",
       "<style scoped>\n",
       "    .dataframe tbody tr th:only-of-type {\n",
       "        vertical-align: middle;\n",
       "    }\n",
       "\n",
       "    .dataframe tbody tr th {\n",
       "        vertical-align: top;\n",
       "    }\n",
       "\n",
       "    .dataframe thead th {\n",
       "        text-align: right;\n",
       "    }\n",
       "</style>\n",
       "<table border=\"1\" class=\"dataframe\">\n",
       "  <thead>\n",
       "    <tr style=\"text-align: right;\">\n",
       "      <th></th>\n",
       "      <th>review</th>\n",
       "      <th>review_length</th>\n",
       "    </tr>\n",
       "  </thead>\n",
       "  <tbody>\n",
       "    <tr>\n",
       "      <th>0</th>\n",
       "      <td>The pakage implies that Warren Beatty and Gold...</td>\n",
       "      <td>125</td>\n",
       "    </tr>\n",
       "    <tr>\n",
       "      <th>1</th>\n",
       "      <td>How the hell did they get this made?! Presenti...</td>\n",
       "      <td>191</td>\n",
       "    </tr>\n",
       "    <tr>\n",
       "      <th>2</th>\n",
       "      <td>There is no real story the film seems more lik...</td>\n",
       "      <td>178</td>\n",
       "    </tr>\n",
       "    <tr>\n",
       "      <th>3</th>\n",
       "      <td>Um .... a serious film about troubled teens in...</td>\n",
       "      <td>180</td>\n",
       "    </tr>\n",
       "    <tr>\n",
       "      <th>4</th>\n",
       "      <td>I'm totally agree with GarryJohal from Singapo...</td>\n",
       "      <td>193</td>\n",
       "    </tr>\n",
       "  </tbody>\n",
       "</table>\n",
       "</div>"
      ],
      "text/plain": [
       "                                              review  review_length\n",
       "0  The pakage implies that Warren Beatty and Gold...            125\n",
       "1  How the hell did they get this made?! Presenti...            191\n",
       "2  There is no real story the film seems more lik...            178\n",
       "3  Um .... a serious film about troubled teens in...            180\n",
       "4  I'm totally agree with GarryJohal from Singapo...            193"
      ]
     },
     "execution_count": 49,
     "metadata": {},
     "output_type": "execute_result"
    }
   ],
   "source": [
    "# Preview updated DataFrame\n",
    "df[['review', 'review_length']].head()\n"
   ]
  },
  {
   "cell_type": "code",
   "execution_count": 50,
   "id": "47e9d3ee-32a0-41cb-91eb-f9081c9885c5",
   "metadata": {},
   "outputs": [
    {
     "name": "stdout",
     "output_type": "stream",
     "text": [
      "Overall Review Length Stats:\n",
      "count    47331.000000\n",
      "mean       229.428831\n",
      "std        170.075447\n",
      "min          4.000000\n",
      "25%        125.500000\n",
      "50%        172.000000\n",
      "75%        278.000000\n",
      "max       2459.000000\n",
      "Name: review_length, dtype: float64\n"
     ]
    }
   ],
   "source": [
    "# Summary stats for review lengths\n",
    "length_stats = df['review_length'].describe()\n",
    "\n",
    "print(\"Overall Review Length Stats:\")\n",
    "print(length_stats)\n"
   ]
  },
  {
   "cell_type": "code",
   "execution_count": 51,
   "id": "56d61434-b065-4988-8ac7-e1eef9ece888",
   "metadata": {},
   "outputs": [
    {
     "name": "stdout",
     "output_type": "stream",
     "text": [
      "Review Lengths by Sentiment Class (0 = Negative, 1 = Positive):\n",
      "       count    mean     std   min    25%    50%    75%     max\n",
      "pos                                                            \n",
      "0    23715.0  227.52  163.45   4.0  127.0  173.0  276.0  1491.0\n",
      "1    23616.0  231.35  176.46  10.0  124.0  171.0  281.0  2459.0\n"
     ]
    }
   ],
   "source": [
    "# Review length stats by sentiment class\n",
    "length_by_class = df.groupby('pos')['review_length'].describe().round(2)\n",
    "\n",
    "print(\"Review Lengths by Sentiment Class (0 = Negative, 1 = Positive):\")\n",
    "print(length_by_class)\n"
   ]
  },
  {
   "cell_type": "markdown",
   "id": "38853a0a-f755-4b98-a597-5c805446106e",
   "metadata": {},
   "source": [
    "### Findings:\n",
    "- Mean length is slightly higher for positive reviews (231.35) than negative ones (227.52).\n",
    "- Median (50%) is almost identical: 173 (neg) vs 171 (pos)\n",
    "- Positive reviews have a slightly higher max (2459 vs 1491 words), suggesting more outliers\n",
    "- Distribution otherwise very similar — nothing dramatic, but worth noting longer extremes for positives"
   ]
  },
  {
   "cell_type": "code",
   "execution_count": 52,
   "id": "b15b406d-aa11-4214-a4ff-5bbe61c5b4aa",
   "metadata": {},
   "outputs": [
    {
     "data": {
      "image/png": "[encoded data removed]",
      "text/plain": [
       "<Figure size 1000x500 with 1 Axes>"
      ]
     },
     "metadata": {},
     "output_type": "display_data"
    }
   ],
   "source": [
    "#Overlaid histograms by sentiment class\n",
    "plt.figure(figsize=(10, 5))\n",
    "plt.hist(df[df['pos'] == 0]['review_length'], bins=50, alpha=0.6, label='Negative (0)')\n",
    "plt.hist(df[df['pos'] == 1]['review_length'], bins=50, alpha=0.6, label='Positive (1)')\n",
    "plt.title('Review Length Distribution by Sentiment Class')\n",
    "plt.xlabel('Number of Words')\n",
    "plt.ylabel('Number of Reviews')\n",
    "plt.legend()\n",
    "plt.grid(True)\n",
    "plt.show()\n"
   ]
  },
  {
   "cell_type": "markdown",
   "id": "1fa10a73-05b4-4c4d-8b71-73925c3d4739",
   "metadata": {},
   "source": [
    "### Review Length Distribution by Sentiment Class\n",
    "\n",
    "- Both **positive (1)** and **negative (0)** reviews follow a similar right-skewed distribution.\n",
    "- The peak for both classes is around **150–200 words**, confirming previous findings.\n",
    "- **Positive reviews** have slightly more long-form entries (longer tails beyond 1000 words).\n",
    "- **Negative reviews** are marginally more frequent in shorter lengths (under ~100 words), though the difference is small.\n",
    "\n",
    "Overall, review lengths between classes are quite similar, with **slight variations in extremes**.\n"
   ]
  },
  {
   "cell_type": "code",
   "execution_count": 53,
   "id": "9d838bf1-299c-4b2b-ad31-2a26a306f031",
   "metadata": {},
   "outputs": [],
   "source": [
    "# Text Preprocessing\n",
    "stop_words = set(stopwords.words('english'))\n",
    "\n",
    "def preprocess_text(text):\n",
    "    # Lowercase\n",
    "    text = text.lower()\n",
    "    # Remove punctuation\n",
    "    text = text.translate(str.maketrans('', '', string.punctuation))\n",
    "    # Remove stopwords\n",
    "    tokens = text.split()\n",
    "    tokens = [word for word in tokens if word not in stop_words]\n",
    "    return ' '.join(tokens)\n"
   ]
  },
  {
   "cell_type": "code",
   "execution_count": 54,
   "id": "664a714e-141b-46a3-becd-a899f15380a0",
   "metadata": {},
   "outputs": [],
   "source": [
    "# Apply preprocessing to all reviews\n",
    "df['clean_review'] = df['review'].apply(preprocess_text)\n"
   ]
  },
  {
   "cell_type": "code",
   "execution_count": 55,
   "id": "3f63b0a6-04c0-4526-877e-0051dfce111d",
   "metadata": {},
   "outputs": [
    {
     "data": {
      "text/html": [
       "<div>\n",
       "<style scoped>\n",
       "    .dataframe tbody tr th:only-of-type {\n",
       "        vertical-align: middle;\n",
       "    }\n",
       "\n",
       "    .dataframe tbody tr th {\n",
       "        vertical-align: top;\n",
       "    }\n",
       "\n",
       "    .dataframe thead th {\n",
       "        text-align: right;\n",
       "    }\n",
       "</style>\n",
       "<table border=\"1\" class=\"dataframe\">\n",
       "  <thead>\n",
       "    <tr style=\"text-align: right;\">\n",
       "      <th></th>\n",
       "      <th>review</th>\n",
       "      <th>clean_review</th>\n",
       "    </tr>\n",
       "  </thead>\n",
       "  <tbody>\n",
       "    <tr>\n",
       "      <th>0</th>\n",
       "      <td>The pakage implies that Warren Beatty and Gold...</td>\n",
       "      <td>pakage implies warren beatty goldie hawn pulli...</td>\n",
       "    </tr>\n",
       "    <tr>\n",
       "      <th>1</th>\n",
       "      <td>How the hell did they get this made?! Presenti...</td>\n",
       "      <td>hell get made presenting caper comedy misbegot...</td>\n",
       "    </tr>\n",
       "    <tr>\n",
       "      <th>2</th>\n",
       "      <td>There is no real story the film seems more lik...</td>\n",
       "      <td>real story film seems like fly wall dramadocum...</td>\n",
       "    </tr>\n",
       "    <tr>\n",
       "      <th>3</th>\n",
       "      <td>Um .... a serious film about troubled teens in...</td>\n",
       "      <td>um serious film troubled teens singapore count...</td>\n",
       "    </tr>\n",
       "    <tr>\n",
       "      <th>4</th>\n",
       "      <td>I'm totally agree with GarryJohal from Singapo...</td>\n",
       "      <td>im totally agree garryjohal singapores comment...</td>\n",
       "    </tr>\n",
       "  </tbody>\n",
       "</table>\n",
       "</div>"
      ],
      "text/plain": [
       "                                              review  \\\n",
       "0  The pakage implies that Warren Beatty and Gold...   \n",
       "1  How the hell did they get this made?! Presenti...   \n",
       "2  There is no real story the film seems more lik...   \n",
       "3  Um .... a serious film about troubled teens in...   \n",
       "4  I'm totally agree with GarryJohal from Singapo...   \n",
       "\n",
       "                                        clean_review  \n",
       "0  pakage implies warren beatty goldie hawn pulli...  \n",
       "1  hell get made presenting caper comedy misbegot...  \n",
       "2  real story film seems like fly wall dramadocum...  \n",
       "3  um serious film troubled teens singapore count...  \n",
       "4  im totally agree garryjohal singapores comment...  "
      ]
     },
     "execution_count": 55,
     "metadata": {},
     "output_type": "execute_result"
    }
   ],
   "source": [
    "# Preview the cleaned text\n",
    "df[['review', 'clean_review']].head()\n"
   ]
  },
  {
   "cell_type": "code",
   "execution_count": 56,
   "id": "02be7c94-251d-4013-aab5-cc886b913567",
   "metadata": {},
   "outputs": [],
   "source": [
    "# Split the data using 'ds_part' column\n",
    "train_df = df[df['ds_part'] == 'train']\n",
    "test_df = df[df['ds_part'] == 'test']\n"
   ]
  },
  {
   "cell_type": "code",
   "execution_count": 57,
   "id": "177b30d1-e2cf-4fa1-a3ad-457e4c293df1",
   "metadata": {},
   "outputs": [],
   "source": [
    "# Initialize TF-IDF Vectorizer\n",
    "vectorizer = TfidfVectorizer(max_features=10000) \n"
   ]
  },
  {
   "cell_type": "code",
   "execution_count": 58,
   "id": "94bfd5f7-eee9-4aa8-b6bd-820ec0d355eb",
   "metadata": {},
   "outputs": [],
   "source": [
    "# Fit on train, transform both train and test\n",
    "X_train = vectorizer.fit_transform(train_df['clean_review'])\n",
    "X_test = vectorizer.transform(test_df['clean_review'])\n"
   ]
  },
  {
   "cell_type": "code",
   "execution_count": 59,
   "id": "0fb48eed-d6ef-4baf-b1ce-a13eda6b9fe3",
   "metadata": {},
   "outputs": [],
   "source": [
    "# Get the labels\n",
    "y_train = train_df['pos']\n",
    "y_test = test_df['pos']\n"
   ]
  },
  {
   "cell_type": "markdown",
   "id": "11ba8c8b-ea77-475f-bab6-5f44c5350d96",
   "metadata": {},
   "source": [
    "### TF-IDF Vectorization Summary\n",
    "\n",
    "- Split the dataset into **train** and **test** sets using the `ds_part` column.\n",
    "- Used **TfidfVectorizer** to convert cleaned text (`clean_review`) into numeric feature vectors.\n",
    "- Limited vocabulary to the **top 10,000 terms** (by frequency).\n",
    "- Created:\n",
    "  - `X_train`, `X_test`: TF-IDF matrices for model input\n",
    "  - `y_train`, `y_test`: corresponding sentiment labels (0 = negative, 1 = positive)\n",
    "\n",
    "The data is now in numerical form and ready for training machine learning models.\n"
   ]
  },
  {
   "cell_type": "code",
   "execution_count": 60,
   "id": "af47f1ac-7f46-46c2-b025-5913f6173d92",
   "metadata": {},
   "outputs": [
    {
     "data": {
      "text/plain": [
       "LogisticRegression(max_iter=1000)"
      ]
     },
     "execution_count": 60,
     "metadata": {},
     "output_type": "execute_result"
    }
   ],
   "source": [
    "# Train Logistic Regression\n",
    "lr_model = LogisticRegression(max_iter=1000)\n",
    "lr_model.fit(X_train, y_train)\n"
   ]
  },
  {
   "cell_type": "code",
   "execution_count": 61,
   "id": "67f9eb74-053d-48bf-9d7a-9afaa40ed8e0",
   "metadata": {},
   "outputs": [],
   "source": [
    "# Predict on test set\n",
    "y_pred_lr = lr_model.predict(X_test)\n"
   ]
  },
  {
   "cell_type": "code",
   "execution_count": 62,
   "id": "ed88a8e2-b15d-47bc-add2-c344d565e869",
   "metadata": {},
   "outputs": [
    {
     "name": "stdout",
     "output_type": "stream",
     "text": [
      "Logistic Regression Classification Report:\n",
      "              precision    recall  f1-score   support\n",
      "\n",
      "           0      0.886     0.883     0.885     11803\n",
      "           1      0.883     0.886     0.884     11732\n",
      "\n",
      "    accuracy                          0.885     23535\n",
      "   macro avg      0.885     0.885     0.885     23535\n",
      "weighted avg      0.885     0.885     0.885     23535\n",
      "\n"
     ]
    }
   ],
   "source": [
    "# Evaluate performance\n",
    "print(\"Logistic Regression Classification Report:\")\n",
    "print(classification_report(y_test, y_pred_lr, digits=3))\n"
   ]
  },
  {
   "cell_type": "code",
   "execution_count": 63,
   "id": "7e74bd5f-b576-47cf-ac83-5e7c954d6730",
   "metadata": {},
   "outputs": [
    {
     "name": "stdout",
     "output_type": "stream",
     "text": [
      "\n",
      "F1 Score Logistic Regression: 0.884\n"
     ]
    }
   ],
   "source": [
    "# Logistic Regression F1 Score check\n",
    "f1 = f1_score(y_test, y_pred_lr)\n",
    "print(f\"\\nF1 Score Logistic Regression: {f1:.3f}\")\n"
   ]
  },
  {
   "cell_type": "markdown",
   "id": "b31a468d-3487-47c0-bdb1-fd3449ef83aa",
   "metadata": {},
   "source": [
    "### Model 1: Logistic Regression\n",
    "\n",
    "- **F1 Score:** 0.885 (Above the required 0.85 threshold)\n",
    "- **Accuracy:** 88.5%\n",
    "- **Precision & Recall:** Balanced for both classes\n",
    "\n",
    "| Class | Precision | Recall | F1-Score |\n",
    "|-------|-----------|--------|----------|\n",
    "| 0 (Negative) | 0.886 | 0.884 | 0.885 |\n",
    "| 1 (Positive) | 0.884 | 0.886 | 0.885 |\n",
    "\n",
    "Logistic Regression provides a strong and balanced baseline model.\n"
   ]
  },
  {
   "cell_type": "code",
   "execution_count": 64,
   "id": "994bf48a-2125-481f-92f5-fa2ed02c4c17",
   "metadata": {},
   "outputs": [],
   "source": [
    "# Train Gradient Boosting (XGBoost)\n",
    "xgb_model = XGBClassifier(use_label_encoder=False, eval_metric='logloss')\n"
   ]
  },
  {
   "cell_type": "code",
   "execution_count": null,
   "id": "d539dd1f-1c1f-49ea-ac1b-48d2777c57d4",
   "metadata": {},
   "outputs": [],
   "source": [
    "# Train the model\n",
    "xgb_model.fit(X_train, y_train)\n"
   ]
  },
  {
   "cell_type": "code",
   "execution_count": null,
   "id": "a05bcce1-f415-4f13-88d2-339b3dff1625",
   "metadata": {},
   "outputs": [],
   "source": [
    "# Predict on the test set\n",
    "y_pred_xgb = xgb_model.predict(X_test)\n"
   ]
  },
  {
   "cell_type": "code",
   "execution_count": null,
   "id": "d9a5ee55-87e0-438f-9a9b-56ad872861cf",
   "metadata": {},
   "outputs": [],
   "source": [
    "# Evaluate performance\n",
    "print(\"XGBoost Classification Report:\")\n",
    "print(classification_report(y_test, y_pred_xgb, digits=3))\n"
   ]
  },
  {
   "cell_type": "code",
   "execution_count": null,
   "id": "941641d7-8231-4eb4-b622-4c306ceba354",
   "metadata": {},
   "outputs": [],
   "source": [
    "# XGBoost F1 Score check\n",
    "f1 = f1_score(y_test, y_pred_xgb)\n",
    "print(f\"\\nF1 Score XGBoost: {f1:.3f}\")"
   ]
  },
  {
   "cell_type": "markdown",
   "id": "71fac8c9-ac2b-402b-a01c-f31eee82aaa0",
   "metadata": {},
   "source": [
    "### Model 2: XGBoost (Gradient Boosting)\n",
    "\n",
    "- **F1 Score:** 0.860\n",
    "- **Accuracy:** 85.8%\n",
    "- **Precision & Recall:** More recall-heavy on positives, lower precision on negatives\n",
    "\n",
    "| Class | Precision | Recall | F1-Score |\n",
    "|-------|-----------|--------|----------|\n",
    "| 0 (Negative) | 0.872 | 0.840 | 0.856 |\n",
    "| 1 (Positive) | 0.845 | 0.876 | 0.860 |\n",
    "\n",
    "Compared to Logistic Regression:\n",
    "- Slightly **lower overall F1**\n",
    "- Tends to **recall positive reviews more**, but with some loss in negative precision\n"
   ]
  },
  {
   "cell_type": "code",
   "execution_count": null,
   "id": "e1be3d6d",
   "metadata": {},
   "outputs": [],
   "source": [
    "# Train LinearSVC (SVM)\n",
    "svc_model = LinearSVC()\n",
    "svc_model.fit(X_train, y_train)\n"
   ]
  },
  {
   "cell_type": "code",
   "execution_count": null,
   "id": "1c4887a2",
   "metadata": {},
   "outputs": [],
   "source": [
    "# Predict on test set\n",
    "y_pred_svc = svc_model.predict(X_test)\n"
   ]
  },
  {
   "cell_type": "code",
   "execution_count": null,
   "id": "5e0ce9bb",
   "metadata": {},
   "outputs": [],
   "source": [
    "# Evaluate performance\n",
    "print(\"LinearSVC Classification Report:\")\n",
    "print(classification_report(y_test, y_pred_svc, digits=3))\n"
   ]
  },
  {
   "cell_type": "code",
   "execution_count": null,
   "id": "4d396264",
   "metadata": {},
   "outputs": [],
   "source": [
    "# F1 Score\n",
    "f1 = f1_score(y_test, y_pred_svc)\n",
    "print(f\"\\nF1 Score LinearSVC: {f1:.3f}\")"
   ]
  },
  {
   "cell_type": "markdown",
   "id": "1544aa56",
   "metadata": {},
   "source": [
    "### Model 3: LinearSVC (Support Vector Machine)\n",
    "\n",
    "- **F1 Score:** 0.868\n",
    "- **Accuracy:** 86.9%\n",
    "- Strong balance between precision and recall for both classes\n",
    "\n",
    "| Class | Precision | Recall | F1-Score |\n",
    "|-------|-----------|--------|----------|\n",
    "| 0 (Negative) | 0.864 | 0.878 | 0.871 |\n",
    "| 1 (Positive) | 0.875 | 0.861 | 0.868 |\n",
    " \n",
    "Performs well with sparse TF-IDF vectors and provides solid balance across both classes.\n"
   ]
  },
  {
   "cell_type": "code",
   "execution_count": null,
   "id": "fdea587d-3c7f-4503-bc47-fcc3c9bd88ea",
   "metadata": {},
   "outputs": [],
   "source": [
    "# Custom reviews for prediction\n",
    "custom_reviews = [\n",
    "    \"This movie was absolutely incredible. The story, acting, and visuals were top-notch.\",\n",
    "    \"I really didn’t enjoy this film. The plot was messy and the dialogue was awful.\",\n",
    "    \"It was okay… not great, not terrible. Just a very average experience.\",\n",
    "    \"A masterpiece! The performances gave me chills. Highly recommend!\",\n",
    "    \"Boring and way too long. I almost fell asleep halfway through.\"\n",
    "]\n"
   ]
  },
  {
   "cell_type": "code",
   "execution_count": null,
   "id": "4e6a0fcc-7bdf-4c8f-a09c-e35ecb962c05",
   "metadata": {},
   "outputs": [],
   "source": [
    "# Predict custom reviews using all 3 final models\n",
    "custom_clean = [preprocess_text(r) for r in custom_reviews]\n"
   ]
  },
  {
   "cell_type": "code",
   "execution_count": null,
   "id": "dc28712b-335e-4e25-ba61-56f6f7990a01",
   "metadata": {},
   "outputs": [],
   "source": [
    "# TF-IDF transform\n",
    "custom_tfidf = vectorizer.transform(custom_clean)\n"
   ]
  },
  {
   "cell_type": "code",
   "execution_count": null,
   "id": "f68ed21c-b960-4197-bd5f-e6a42787cfda",
   "metadata": {},
   "outputs": [],
   "source": [
    "# Predict with each model\n",
    "pred_lr = lr_model.predict(custom_tfidf)\n",
    "pred_xgb = xgb_model.predict(custom_tfidf)\n",
    "pred_svc = svc_model.predict(custom_tfidf)\n"
   ]
  },
  {
   "cell_type": "code",
   "execution_count": null,
   "id": "4be29237-16c6-41f2-9bfb-19a7a8d46baf",
   "metadata": {},
   "outputs": [],
   "source": [
    "# 4. Compile results\n",
    "results = pd.DataFrame({\n",
    "    'Original Review': custom_reviews,\n",
    "    'Logistic Regression': pred_lr,\n",
    "    'XGBoost': pred_xgb,\n",
    "    'LinearSVC': pred_svc\n",
    "})\n"
   ]
  },
  {
   "cell_type": "code",
   "execution_count": null,
   "id": "42d639a9-0744-449f-855c-04fa3fcf2c8d",
   "metadata": {},
   "outputs": [],
   "source": [
    "# Convert 0/1 to label\n",
    "results = results.replace({0: 'Negative', 1: 'Positive'})\n",
    "\n",
    "results\n"
   ]
  },
  {
   "cell_type": "markdown",
   "id": "1aa9f42f-7ef7-4f84-af78-972e3a0d592d",
   "metadata": {},
   "source": [
    "### Custom Review Classification (Model Comparison)\n",
    "\n",
    "| Review | Logistic Regression | XGBoost | LinearSVC |\n",
    "|--------|----------------------|---------|--------------|\n",
    "| Incredible movie, great story and visuals | Positive | Positive | Positive |\n",
    "| Didn’t enjoy the film, messy plot | Negative | Negative | Negative |\n",
    "| Okay… not great, not terrible | Negative | **Positive** | Negative |\n",
    "| Masterpiece, amazing performances | Positive | Positive | Positive |\n",
    "| Boring and too long | Negative | Negative | Negative |\n",
    "\n",
    "- All models agreed on **4 out of 5** reviews\n",
    "- XGBoost labeled a **neutral review as positive**, indicating potential optimism bias\n",
    "- This test highlights how models can diverge on **ambiguous or mixed-tone** inputs\n"
   ]
  },
  {
   "cell_type": "code",
   "execution_count": null,
   "id": "0eae0e47-3b19-41c7-a737-5d891d004c5e",
   "metadata": {},
   "outputs": [],
   "source": [
    "# Generate Confusion Matrices\n",
    "cm_lr = confusion_matrix(y_test, y_pred_lr)\n",
    "cm_xgb = confusion_matrix(y_test, y_pred_xgb)\n",
    "cm_svc = confusion_matrix(y_test, y_pred_svc)\n"
   ]
  },
  {
   "cell_type": "code",
   "execution_count": null,
   "id": "6e9a495c-f33b-4fd1-b1a1-23bfbde284e2",
   "metadata": {},
   "outputs": [],
   "source": [
    "# Plot side-by-side\n",
    "fig, axes = plt.subplots(1, 3, figsize=(18, 5))\n",
    "\n",
    "ConfusionMatrixDisplay(cm_lr, display_labels=['Negative', 'Positive']).plot(ax=axes[0])\n",
    "axes[0].set_title(\"Logistic Regression\")\n",
    "\n",
    "ConfusionMatrixDisplay(cm_xgb, display_labels=['Negative', 'Positive']).plot(ax=axes[1])\n",
    "axes[1].set_title(\"XGBoost\")\n",
    "\n",
    "ConfusionMatrixDisplay(cm_svc, display_labels=['Negative', 'Positive']).plot(ax=axes[2])\n",
    "axes[2].set_title(\"LinearSVC\")\n",
    "\n",
    "plt.tight_layout()\n",
    "plt.show()\n"
   ]
  },
  {
   "cell_type": "markdown",
   "id": "e41b9011-ef76-424a-8c01-8c6108481583",
   "metadata": {},
   "source": [
    "### Confusion Matrix Analysis (Final 3 Models)\n",
    "\n",
    "| Model               | False Positives | False Negatives | Comments |\n",
    "|--------------------|-----------------|------------------|----------|\n",
    "| Logistic Regression| 1,383           | 1,335            | Best balanced performance |\n",
    "| XGBoost            | 1,906           | 1,461            | Tends to overpredict positives |\n",
    "| LinearSVC          | 1,441           | 1,632            | Higher FN than Logistic, but strong overall |\n",
    "\n",
    "#### Observations:\n",
    "- **Logistic Regression** remains the most balanced and consistent\n",
    "- **XGBoost** predicts more false positives — slightly optimistic\n",
    "- **LinearSVC** performs well overall, with slightly higher false negatives\n"
   ]
  },
  {
   "cell_type": "markdown",
   "id": "b0d7f3fa-6d2d-4e5d-9b17-6093391ca127",
   "metadata": {},
   "source": [
    "## Final Project Summary: Movie Review Sentiment Classifier\n",
    "\n",
    "---\n",
    "\n",
    "### Objective\n",
    "Build and evaluate models to automatically classify IMDB reviews as **positive** or **negative**, with a target **F1 score ≥ 0.85**.\n",
    "\n",
    "---\n",
    "\n",
    "### Data Overview\n",
    "- Dataset: `imdb_reviews.tsv` (47,331 reviews)\n",
    "- Balanced class distribution (≈50/50 positive vs negative)\n",
    "- Split via `ds_part`: ~24k train / ~23.5k test\n",
    "\n",
    "---\n",
    "\n",
    "### Modeling Results\n",
    "\n",
    "| Model               | F1 Score | Accuracy | Notes |\n",
    "|--------------------|----------|----------|-------|\n",
    "| **Logistic Regression** | **0.885** | 88.5%    | Best performer, balanced |\n",
    "| **XGBoost**              | 0.860    | 85.8%    | Tends to overpredict positives |\n",
    "| **LinearSVC**            | 0.868    | 86.9%    | Solid balance, slightly more false negatives |\n",
    "\n",
    "- All three models passed the **F1 ≥ 0.85** target.\n",
    "- Logistic Regression performed best overall in terms of **balance and reliability**.\n",
    "\n",
    "---\n",
    "\n",
    "### Custom Review Evaluation\n",
    "- 4 out of 5 custom reviews were **consistently classified**.\n",
    "- XGBoost was **optimistic** on a neutral/ambiguous review — indicating possible bias.\n",
    "\n",
    "---\n",
    "\n",
    "### Confusion Matrix Insights\n",
    "\n",
    "| Model               | False Positives | False Negatives | Summary |\n",
    "|--------------------|-----------------|------------------|---------|\n",
    "| Logistic Regression| 1,383           | 1,335            | Most balanced performance |\n",
    "| XGBoost            | 1,906           | 1,461            | Higher false positives |\n",
    "| LinearSVC          | 1,441           | 1,632            | Slightly higher false negatives |\n",
    "\n",
    "---\n",
    "\n",
    "### Final Verdict\n",
    "- **Logistic Regression** is the recommended model for deployment.\n",
    "- It achieved high performance, excellent class balance, and robustness to custom inputs.\n",
    "- **LinearSVC** is a strong runner-up — slightly lower F1 but still reliable and fast.\n"
   ]
  }
 ],
 "metadata": {
  "ExecuteTimeLog": [
   {
    "duration": 1182,
    "start_time": "2025-04-06T02:23:38.076Z"
   },
   {
    "duration": 1129,
    "start_time": "2025-04-06T02:24:31.808Z"
   },
   {
    "duration": 671,
    "start_time": "2025-04-06T02:24:32.940Z"
   },
   {
    "duration": 0,
    "start_time": "2025-04-06T02:24:33.614Z"
   },
   {
    "duration": 0,
    "start_time": "2025-04-06T02:24:33.615Z"
   },
   {
    "duration": 0,
    "start_time": "2025-04-06T02:24:33.616Z"
   },
   {
    "duration": 0,
    "start_time": "2025-04-06T02:24:33.625Z"
   },
   {
    "duration": 0,
    "start_time": "2025-04-06T02:24:33.626Z"
   },
   {
    "duration": 0,
    "start_time": "2025-04-06T02:24:33.628Z"
   },
   {
    "duration": 0,
    "start_time": "2025-04-06T02:24:33.629Z"
   },
   {
    "duration": 0,
    "start_time": "2025-04-06T02:24:33.631Z"
   },
   {
    "duration": 0,
    "start_time": "2025-04-06T02:24:33.632Z"
   },
   {
    "duration": 0,
    "start_time": "2025-04-06T02:24:33.633Z"
   },
   {
    "duration": 0,
    "start_time": "2025-04-06T02:24:33.635Z"
   },
   {
    "duration": 0,
    "start_time": "2025-04-06T02:24:33.636Z"
   },
   {
    "duration": 0,
    "start_time": "2025-04-06T02:24:33.638Z"
   },
   {
    "duration": 0,
    "start_time": "2025-04-06T02:24:33.639Z"
   },
   {
    "duration": 0,
    "start_time": "2025-04-06T02:24:33.640Z"
   },
   {
    "duration": 0,
    "start_time": "2025-04-06T02:24:33.641Z"
   },
   {
    "duration": 0,
    "start_time": "2025-04-06T02:24:33.642Z"
   },
   {
    "duration": 0,
    "start_time": "2025-04-06T02:24:33.643Z"
   },
   {
    "duration": 0,
    "start_time": "2025-04-06T02:24:33.644Z"
   },
   {
    "duration": 0,
    "start_time": "2025-04-06T02:24:33.645Z"
   },
   {
    "duration": 0,
    "start_time": "2025-04-06T02:24:33.647Z"
   },
   {
    "duration": 0,
    "start_time": "2025-04-06T02:24:33.648Z"
   },
   {
    "duration": 0,
    "start_time": "2025-04-06T02:24:33.649Z"
   },
   {
    "duration": 0,
    "start_time": "2025-04-06T02:24:33.651Z"
   },
   {
    "duration": 0,
    "start_time": "2025-04-06T02:24:33.652Z"
   },
   {
    "duration": 0,
    "start_time": "2025-04-06T02:24:33.653Z"
   },
   {
    "duration": 0,
    "start_time": "2025-04-06T02:24:33.654Z"
   },
   {
    "duration": 0,
    "start_time": "2025-04-06T02:24:33.655Z"
   },
   {
    "duration": 0,
    "start_time": "2025-04-06T02:24:33.657Z"
   },
   {
    "duration": 0,
    "start_time": "2025-04-06T02:24:33.658Z"
   },
   {
    "duration": 0,
    "start_time": "2025-04-06T02:24:33.659Z"
   },
   {
    "duration": 0,
    "start_time": "2025-04-06T02:24:33.661Z"
   },
   {
    "duration": 0,
    "start_time": "2025-04-06T02:24:33.662Z"
   },
   {
    "duration": 0,
    "start_time": "2025-04-06T02:24:33.664Z"
   },
   {
    "duration": 0,
    "start_time": "2025-04-06T02:24:33.665Z"
   },
   {
    "duration": 0,
    "start_time": "2025-04-06T02:24:33.666Z"
   },
   {
    "duration": 1,
    "start_time": "2025-04-06T02:24:33.667Z"
   },
   {
    "duration": 0,
    "start_time": "2025-04-06T02:24:33.728Z"
   },
   {
    "duration": 157,
    "start_time": "2025-04-06T12:58:12.372Z"
   },
   {
    "duration": 1153,
    "start_time": "2025-04-06T13:08:34.100Z"
   },
   {
    "duration": 708,
    "start_time": "2025-04-06T13:08:35.255Z"
   },
   {
    "duration": 15,
    "start_time": "2025-04-06T13:08:36.812Z"
   },
   {
    "duration": 30,
    "start_time": "2025-04-06T13:08:37.739Z"
   },
   {
    "duration": 24,
    "start_time": "2025-04-06T13:08:38.471Z"
   },
   {
    "duration": 7,
    "start_time": "2025-04-06T13:08:39.223Z"
   },
   {
    "duration": 5,
    "start_time": "2025-04-06T13:08:40.032Z"
   },
   {
    "duration": 353,
    "start_time": "2025-04-06T13:08:43.219Z"
   },
   {
    "duration": 9,
    "start_time": "2025-04-06T13:08:43.795Z"
   },
   {
    "duration": 7,
    "start_time": "2025-04-06T13:08:44.468Z"
   },
   {
    "duration": 19,
    "start_time": "2025-04-06T13:08:45.199Z"
   },
   {
    "duration": 264,
    "start_time": "2025-04-06T13:08:46.433Z"
   },
   {
    "duration": 4,
    "start_time": "2025-04-06T13:08:47.519Z"
   },
   {
    "duration": 1799,
    "start_time": "2025-04-06T13:08:48.042Z"
   },
   {
    "duration": 16,
    "start_time": "2025-04-06T13:08:49.843Z"
   },
   {
    "duration": 15,
    "start_time": "2025-04-06T13:08:49.861Z"
   },
   {
    "duration": 3,
    "start_time": "2025-04-06T13:08:49.878Z"
   },
   {
    "duration": 2946,
    "start_time": "2025-04-06T13:08:50.107Z"
   },
   {
    "duration": 3,
    "start_time": "2025-04-06T13:08:53.056Z"
   },
   {
    "duration": 787,
    "start_time": "2025-04-06T13:08:53.061Z"
   },
   {
    "duration": 6,
    "start_time": "2025-04-06T13:08:53.926Z"
   },
   {
    "duration": 95,
    "start_time": "2025-04-06T13:08:53.934Z"
   },
   {
    "duration": 8,
    "start_time": "2025-04-06T13:08:54.030Z"
   },
   {
    "duration": 2,
    "start_time": "2025-04-06T13:08:54.315Z"
   },
   {
    "duration": 88104,
    "start_time": "2025-04-06T13:08:54.851Z"
   },
   {
    "duration": 181,
    "start_time": "2025-04-06T13:10:22.957Z"
   },
   {
    "duration": 24,
    "start_time": "2025-04-06T13:10:23.140Z"
   },
   {
    "duration": 57,
    "start_time": "2025-04-06T13:10:23.168Z"
   },
   {
    "duration": 13,
    "start_time": "2025-04-06T13:10:23.226Z"
   },
   {
    "duration": 11,
    "start_time": "2025-04-06T13:10:23.241Z"
   },
   {
    "duration": 25,
    "start_time": "2025-04-06T13:10:23.253Z"
   },
   {
    "duration": 9,
    "start_time": "2025-04-06T13:10:23.279Z"
   },
   {
    "duration": 36,
    "start_time": "2025-04-06T13:10:23.290Z"
   },
   {
    "duration": 3,
    "start_time": "2025-04-06T13:10:23.330Z"
   },
   {
    "duration": 6,
    "start_time": "2025-04-06T13:10:23.335Z"
   },
   {
    "duration": 14,
    "start_time": "2025-04-06T13:10:23.342Z"
   },
   {
    "duration": 4,
    "start_time": "2025-04-06T13:10:23.358Z"
   },
   {
    "duration": 60,
    "start_time": "2025-04-06T13:10:23.364Z"
   },
   {
    "duration": 28,
    "start_time": "2025-04-06T13:10:23.427Z"
   },
   {
    "duration": 502,
    "start_time": "2025-04-06T13:10:23.458Z"
   },
   {
    "duration": 2,
    "start_time": "2025-04-06T13:11:16.809Z"
   },
   {
    "duration": 88219,
    "start_time": "2025-04-06T13:11:17.308Z"
   },
   {
    "duration": 110,
    "start_time": "2025-04-06T13:12:45.530Z"
   },
   {
    "duration": 95,
    "start_time": "2025-04-06T13:12:45.641Z"
   },
   {
    "duration": 8,
    "start_time": "2025-04-06T13:12:45.739Z"
   },
   {
    "duration": 11,
    "start_time": "2025-04-06T13:12:45.749Z"
   },
   {
    "duration": 9,
    "start_time": "2025-04-06T13:12:45.762Z"
   },
   {
    "duration": 23,
    "start_time": "2025-04-06T13:12:45.773Z"
   },
   {
    "duration": 8,
    "start_time": "2025-04-06T13:12:45.823Z"
   },
   {
    "duration": 2,
    "start_time": "2025-04-06T13:12:45.833Z"
   },
   {
    "duration": 2,
    "start_time": "2025-04-06T13:12:45.838Z"
   },
   {
    "duration": 4,
    "start_time": "2025-04-06T13:12:45.842Z"
   },
   {
    "duration": 9,
    "start_time": "2025-04-06T13:12:45.847Z"
   },
   {
    "duration": 3,
    "start_time": "2025-04-06T13:12:45.857Z"
   },
   {
    "duration": 9,
    "start_time": "2025-04-06T13:12:45.861Z"
   },
   {
    "duration": 79,
    "start_time": "2025-04-06T13:12:45.872Z"
   },
   {
    "duration": 482,
    "start_time": "2025-04-06T13:12:45.952Z"
   },
   {
    "duration": 1064,
    "start_time": "2025-04-06T13:15:51.018Z"
   },
   {
    "duration": 587,
    "start_time": "2025-04-06T13:15:52.084Z"
   },
   {
    "duration": 14,
    "start_time": "2025-04-06T13:15:52.673Z"
   },
   {
    "duration": 36,
    "start_time": "2025-04-06T13:15:52.689Z"
   },
   {
    "duration": 19,
    "start_time": "2025-04-06T13:15:52.727Z"
   },
   {
    "duration": 6,
    "start_time": "2025-04-06T13:15:52.747Z"
   },
   {
    "duration": 4,
    "start_time": "2025-04-06T13:15:52.755Z"
   },
   {
    "duration": 365,
    "start_time": "2025-04-06T13:15:52.760Z"
   },
   {
    "duration": 9,
    "start_time": "2025-04-06T13:15:53.127Z"
   },
   {
    "duration": 7,
    "start_time": "2025-04-06T13:15:53.138Z"
   },
   {
    "duration": 13,
    "start_time": "2025-04-06T13:15:53.146Z"
   },
   {
    "duration": 280,
    "start_time": "2025-04-06T13:15:53.160Z"
   },
   {
    "duration": 4,
    "start_time": "2025-04-06T13:15:53.442Z"
   },
   {
    "duration": 1701,
    "start_time": "2025-04-06T13:15:53.447Z"
   },
   {
    "duration": 17,
    "start_time": "2025-04-06T13:15:55.149Z"
   },
   {
    "duration": 23,
    "start_time": "2025-04-06T13:15:55.167Z"
   },
   {
    "duration": 6,
    "start_time": "2025-04-06T13:15:55.194Z"
   },
   {
    "duration": 2873,
    "start_time": "2025-04-06T13:15:55.202Z"
   },
   {
    "duration": 5,
    "start_time": "2025-04-06T13:15:58.077Z"
   },
   {
    "duration": 851,
    "start_time": "2025-04-06T13:15:58.083Z"
   },
   {
    "duration": 5,
    "start_time": "2025-04-06T13:15:58.937Z"
   },
   {
    "duration": 100,
    "start_time": "2025-04-06T13:15:58.944Z"
   },
   {
    "duration": 8,
    "start_time": "2025-04-06T13:15:59.046Z"
   },
   {
    "duration": 3,
    "start_time": "2025-04-06T13:15:59.055Z"
   },
   {
    "duration": 87992,
    "start_time": "2025-04-06T13:15:59.060Z"
   },
   {
    "duration": 182,
    "start_time": "2025-04-06T13:17:27.054Z"
   },
   {
    "duration": 24,
    "start_time": "2025-04-06T13:17:27.238Z"
   },
   {
    "duration": 9,
    "start_time": "2025-04-06T13:17:27.267Z"
   },
   {
    "duration": 56,
    "start_time": "2025-04-06T13:17:27.278Z"
   },
   {
    "duration": 10,
    "start_time": "2025-04-06T13:17:27.336Z"
   },
   {
    "duration": 25,
    "start_time": "2025-04-06T13:17:27.347Z"
   },
   {
    "duration": 8,
    "start_time": "2025-04-06T13:17:27.374Z"
   },
   {
    "duration": 2,
    "start_time": "2025-04-06T13:17:27.384Z"
   },
   {
    "duration": 4,
    "start_time": "2025-04-06T13:17:27.387Z"
   },
   {
    "duration": 33,
    "start_time": "2025-04-06T13:17:27.392Z"
   },
   {
    "duration": 14,
    "start_time": "2025-04-06T13:17:27.427Z"
   },
   {
    "duration": 3,
    "start_time": "2025-04-06T13:17:27.443Z"
   },
   {
    "duration": 8,
    "start_time": "2025-04-06T13:17:27.448Z"
   },
   {
    "duration": 75,
    "start_time": "2025-04-06T13:17:27.458Z"
   },
   {
    "duration": 476,
    "start_time": "2025-04-06T13:17:27.535Z"
   },
   {
    "duration": 235,
    "start_time": "2025-04-06T13:19:34.700Z"
   },
   {
    "duration": 1085,
    "start_time": "2025-04-06T13:26:32.880Z"
   },
   {
    "duration": 607,
    "start_time": "2025-04-06T13:26:33.968Z"
   },
   {
    "duration": 14,
    "start_time": "2025-04-06T13:26:34.576Z"
   },
   {
    "duration": 33,
    "start_time": "2025-04-06T13:26:34.592Z"
   },
   {
    "duration": 21,
    "start_time": "2025-04-06T13:26:34.626Z"
   },
   {
    "duration": 6,
    "start_time": "2025-04-06T13:26:34.649Z"
   },
   {
    "duration": 4,
    "start_time": "2025-04-06T13:26:34.657Z"
   },
   {
    "duration": 375,
    "start_time": "2025-04-06T13:26:34.663Z"
   },
   {
    "duration": 10,
    "start_time": "2025-04-06T13:26:35.040Z"
   },
   {
    "duration": 6,
    "start_time": "2025-04-06T13:26:35.053Z"
   },
   {
    "duration": 13,
    "start_time": "2025-04-06T13:26:35.061Z"
   },
   {
    "duration": 282,
    "start_time": "2025-04-06T13:26:35.075Z"
   },
   {
    "duration": 5,
    "start_time": "2025-04-06T13:26:35.358Z"
   },
   {
    "duration": 1688,
    "start_time": "2025-04-06T13:26:35.364Z"
   },
   {
    "duration": 17,
    "start_time": "2025-04-06T13:26:37.053Z"
   },
   {
    "duration": 15,
    "start_time": "2025-04-06T13:26:37.073Z"
   },
   {
    "duration": 2,
    "start_time": "2025-04-06T13:26:37.089Z"
   },
   {
    "duration": 2878,
    "start_time": "2025-04-06T13:26:37.093Z"
   },
   {
    "duration": 3,
    "start_time": "2025-04-06T13:26:39.972Z"
   },
   {
    "duration": 870,
    "start_time": "2025-04-06T13:26:39.977Z"
   },
   {
    "duration": 5,
    "start_time": "2025-04-06T13:26:40.925Z"
   },
   {
    "duration": 91,
    "start_time": "2025-04-06T13:26:40.933Z"
   },
   {
    "duration": 7,
    "start_time": "2025-04-06T13:26:41.026Z"
   },
   {
    "duration": 2,
    "start_time": "2025-04-06T13:26:41.035Z"
   },
   {
    "duration": 88304,
    "start_time": "2025-04-06T13:26:41.039Z"
   },
   {
    "duration": 179,
    "start_time": "2025-04-06T13:28:09.345Z"
   },
   {
    "duration": 23,
    "start_time": "2025-04-06T13:28:09.526Z"
   },
   {
    "duration": 9,
    "start_time": "2025-04-06T13:28:09.552Z"
   },
   {
    "duration": 230,
    "start_time": "2025-04-06T13:28:09.562Z"
   },
   {
    "duration": 5,
    "start_time": "2025-04-06T13:28:09.794Z"
   },
   {
    "duration": 38,
    "start_time": "2025-04-06T13:28:09.800Z"
   },
   {
    "duration": 8,
    "start_time": "2025-04-06T13:28:09.839Z"
   },
   {
    "duration": 3,
    "start_time": "2025-04-06T13:28:09.849Z"
   },
   {
    "duration": 3,
    "start_time": "2025-04-06T13:28:09.853Z"
   },
   {
    "duration": 3,
    "start_time": "2025-04-06T13:28:09.859Z"
   },
   {
    "duration": 11,
    "start_time": "2025-04-06T13:28:09.863Z"
   },
   {
    "duration": 3,
    "start_time": "2025-04-06T13:28:09.876Z"
   },
   {
    "duration": 45,
    "start_time": "2025-04-06T13:28:09.880Z"
   },
   {
    "duration": 276,
    "start_time": "2025-04-06T13:28:09.927Z"
   },
   {
    "duration": 0,
    "start_time": "2025-04-06T13:28:10.205Z"
   },
   {
    "duration": 32,
    "start_time": "2025-04-06T13:30:13.590Z"
   },
   {
    "duration": 435,
    "start_time": "2025-04-06T13:30:14.326Z"
   },
   {
    "duration": 1178,
    "start_time": "2025-04-06T13:33:12.852Z"
   },
   {
    "duration": 632,
    "start_time": "2025-04-06T13:33:14.032Z"
   },
   {
    "duration": 15,
    "start_time": "2025-04-06T13:33:14.665Z"
   },
   {
    "duration": 44,
    "start_time": "2025-04-06T13:33:14.681Z"
   },
   {
    "duration": 24,
    "start_time": "2025-04-06T13:33:14.727Z"
   },
   {
    "duration": 7,
    "start_time": "2025-04-06T13:33:14.753Z"
   },
   {
    "duration": 5,
    "start_time": "2025-04-06T13:33:14.762Z"
   },
   {
    "duration": 378,
    "start_time": "2025-04-06T13:33:14.768Z"
   },
   {
    "duration": 9,
    "start_time": "2025-04-06T13:33:15.148Z"
   },
   {
    "duration": 7,
    "start_time": "2025-04-06T13:33:15.159Z"
   },
   {
    "duration": 19,
    "start_time": "2025-04-06T13:33:15.169Z"
   },
   {
    "duration": 294,
    "start_time": "2025-04-06T13:33:15.190Z"
   },
   {
    "duration": 5,
    "start_time": "2025-04-06T13:33:15.486Z"
   },
   {
    "duration": 1704,
    "start_time": "2025-04-06T13:33:15.495Z"
   },
   {
    "duration": 25,
    "start_time": "2025-04-06T13:33:17.200Z"
   },
   {
    "duration": 18,
    "start_time": "2025-04-06T13:33:17.227Z"
   },
   {
    "duration": 3,
    "start_time": "2025-04-06T13:33:17.247Z"
   },
   {
    "duration": 3199,
    "start_time": "2025-04-06T13:33:17.252Z"
   },
   {
    "duration": 3,
    "start_time": "2025-04-06T13:33:20.453Z"
   },
   {
    "duration": 878,
    "start_time": "2025-04-06T13:33:20.457Z"
   },
   {
    "duration": 7,
    "start_time": "2025-04-06T13:33:21.337Z"
   },
   {
    "duration": 102,
    "start_time": "2025-04-06T13:33:21.346Z"
   },
   {
    "duration": 8,
    "start_time": "2025-04-06T13:33:21.450Z"
   },
   {
    "duration": 3,
    "start_time": "2025-04-06T13:33:21.459Z"
   },
   {
    "duration": 88480,
    "start_time": "2025-04-06T13:33:21.464Z"
   },
   {
    "duration": 187,
    "start_time": "2025-04-06T13:34:49.945Z"
   },
   {
    "duration": 23,
    "start_time": "2025-04-06T13:34:50.134Z"
   },
   {
    "duration": 8,
    "start_time": "2025-04-06T13:34:50.158Z"
   },
   {
    "duration": 244,
    "start_time": "2025-04-06T13:34:50.167Z"
   },
   {
    "duration": 11,
    "start_time": "2025-04-06T13:34:50.413Z"
   },
   {
    "duration": 22,
    "start_time": "2025-04-06T13:34:50.425Z"
   },
   {
    "duration": 7,
    "start_time": "2025-04-06T13:34:50.449Z"
   },
   {
    "duration": 3,
    "start_time": "2025-04-06T13:34:50.457Z"
   },
   {
    "duration": 4,
    "start_time": "2025-04-06T13:34:50.462Z"
   },
   {
    "duration": 4,
    "start_time": "2025-04-06T13:34:50.467Z"
   },
   {
    "duration": 7,
    "start_time": "2025-04-06T13:34:50.473Z"
   },
   {
    "duration": 45,
    "start_time": "2025-04-06T13:34:50.481Z"
   },
   {
    "duration": 9,
    "start_time": "2025-04-06T13:34:50.528Z"
   },
   {
    "duration": 30,
    "start_time": "2025-04-06T13:34:50.538Z"
   },
   {
    "duration": 484,
    "start_time": "2025-04-06T13:34:50.569Z"
   },
   {
    "duration": 2796,
    "start_time": "2025-04-06T19:48:58.449Z"
   },
   {
    "duration": 657,
    "start_time": "2025-04-06T19:49:01.247Z"
   },
   {
    "duration": 14,
    "start_time": "2025-04-06T19:49:01.906Z"
   },
   {
    "duration": 27,
    "start_time": "2025-04-06T19:49:01.921Z"
   },
   {
    "duration": 39,
    "start_time": "2025-04-06T19:49:01.950Z"
   },
   {
    "duration": 6,
    "start_time": "2025-04-06T19:49:01.991Z"
   },
   {
    "duration": 4,
    "start_time": "2025-04-06T19:49:01.999Z"
   },
   {
    "duration": 377,
    "start_time": "2025-04-06T19:49:02.005Z"
   },
   {
    "duration": 8,
    "start_time": "2025-04-06T19:49:02.384Z"
   },
   {
    "duration": 6,
    "start_time": "2025-04-06T19:49:02.395Z"
   },
   {
    "duration": 14,
    "start_time": "2025-04-06T19:49:02.402Z"
   },
   {
    "duration": 272,
    "start_time": "2025-04-06T19:49:02.417Z"
   },
   {
    "duration": 4,
    "start_time": "2025-04-06T19:49:02.691Z"
   },
   {
    "duration": 1724,
    "start_time": "2025-04-06T19:49:02.699Z"
   },
   {
    "duration": 16,
    "start_time": "2025-04-06T19:49:04.425Z"
   },
   {
    "duration": 34,
    "start_time": "2025-04-06T19:49:04.443Z"
   },
   {
    "duration": 2,
    "start_time": "2025-04-06T19:49:04.479Z"
   },
   {
    "duration": 2962,
    "start_time": "2025-04-06T19:49:04.483Z"
   },
   {
    "duration": 3,
    "start_time": "2025-04-06T19:49:07.448Z"
   },
   {
    "duration": 90007,
    "start_time": "2025-04-06T19:49:08.400Z"
   },
   {
    "duration": 179,
    "start_time": "2025-04-06T19:50:38.408Z"
   },
   {
    "duration": 96,
    "start_time": "2025-04-06T19:50:38.589Z"
   },
   {
    "duration": 8,
    "start_time": "2025-04-06T19:50:38.686Z"
   },
   {
    "duration": 213,
    "start_time": "2025-04-06T19:50:38.696Z"
   },
   {
    "duration": 4,
    "start_time": "2025-04-06T19:50:38.911Z"
   },
   {
    "duration": 23,
    "start_time": "2025-04-06T19:50:38.917Z"
   },
   {
    "duration": 8,
    "start_time": "2025-04-06T19:50:38.942Z"
   },
   {
    "duration": 3,
    "start_time": "2025-04-06T19:50:38.970Z"
   },
   {
    "duration": 3,
    "start_time": "2025-04-06T19:50:38.974Z"
   },
   {
    "duration": 4,
    "start_time": "2025-04-06T19:50:38.979Z"
   },
   {
    "duration": 9,
    "start_time": "2025-04-06T19:50:38.984Z"
   },
   {
    "duration": 4,
    "start_time": "2025-04-06T19:50:38.994Z"
   },
   {
    "duration": 9,
    "start_time": "2025-04-06T19:50:38.999Z"
   },
   {
    "duration": 69,
    "start_time": "2025-04-06T19:50:39.009Z"
   },
   {
    "duration": 541,
    "start_time": "2025-04-06T19:50:39.081Z"
   },
   {
    "duration": 3,
    "start_time": "2025-04-06T19:59:58.974Z"
   },
   {
    "duration": 632,
    "start_time": "2025-04-06T19:59:58.980Z"
   },
   {
    "duration": 13,
    "start_time": "2025-04-06T19:59:59.614Z"
   },
   {
    "duration": 28,
    "start_time": "2025-04-06T19:59:59.629Z"
   },
   {
    "duration": 23,
    "start_time": "2025-04-06T19:59:59.672Z"
   },
   {
    "duration": 9,
    "start_time": "2025-04-06T19:59:59.697Z"
   },
   {
    "duration": 4,
    "start_time": "2025-04-06T19:59:59.707Z"
   },
   {
    "duration": 379,
    "start_time": "2025-04-06T19:59:59.713Z"
   },
   {
    "duration": 10,
    "start_time": "2025-04-06T20:00:00.094Z"
   },
   {
    "duration": 7,
    "start_time": "2025-04-06T20:00:00.108Z"
   },
   {
    "duration": 18,
    "start_time": "2025-04-06T20:00:00.117Z"
   },
   {
    "duration": 282,
    "start_time": "2025-04-06T20:00:00.137Z"
   },
   {
    "duration": 4,
    "start_time": "2025-04-06T20:00:00.422Z"
   },
   {
    "duration": 1819,
    "start_time": "2025-04-06T20:00:00.431Z"
   },
   {
    "duration": 25,
    "start_time": "2025-04-06T20:00:02.252Z"
   },
   {
    "duration": 18,
    "start_time": "2025-04-06T20:00:02.279Z"
   },
   {
    "duration": 8,
    "start_time": "2025-04-06T20:00:02.301Z"
   },
   {
    "duration": 3346,
    "start_time": "2025-04-06T20:00:02.311Z"
   },
   {
    "duration": 3,
    "start_time": "2025-04-06T20:00:05.659Z"
   },
   {
    "duration": 910,
    "start_time": "2025-04-06T20:00:05.671Z"
   },
   {
    "duration": 10,
    "start_time": "2025-04-06T20:00:06.583Z"
   },
   {
    "duration": 104,
    "start_time": "2025-04-06T20:00:06.596Z"
   },
   {
    "duration": 10,
    "start_time": "2025-04-06T20:00:06.702Z"
   },
   {
    "duration": 3,
    "start_time": "2025-04-06T20:00:06.714Z"
   }
  ],
  "kernelspec": {
   "display_name": "Python 3 (ipykernel)",
   "language": "python",
   "name": "python3"
  },
  "language_info": {
   "codemirror_mode": {
    "name": "ipython",
    "version": 3
   },
   "file_extension": ".py",
   "mimetype": "text/x-python",
   "name": "python",
   "nbconvert_exporter": "python",
   "pygments_lexer": "ipython3",
   "version": "3.12.2"
  },
  "toc": {
   "base_numbering": 1,
   "nav_menu": {},
   "number_sections": true,
   "sideBar": true,
   "skip_h1_title": true,
   "title_cell": "Table of Contents",
   "title_sidebar": "Contents",
   "toc_cell": false,
   "toc_position": {},
   "toc_section_display": true,
   "toc_window_display": false
  }
 },
 "nbformat": 4,
 "nbformat_minor": 5
}
